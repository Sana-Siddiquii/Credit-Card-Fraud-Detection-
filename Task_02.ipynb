{
 "cells": [
  {
   "cell_type": "markdown",
   "id": "5064c439",
   "metadata": {},
   "source": [
    "# Task 1: Data Understanding and Preprocessing:\n",
    "- Perform data exploration to understand the distribution of fraudulent vs. legitimate transactions.\n",
    "- Handle any missing or inconsistent data.\n",
    "- Convert categorical variables into numerical representations where necessary (e.g., Merchant, Location, Transaction Type).\n",
    "- Balance the dataset if it is highly imbalanced (e.g., using techniques like SMOTE or undersampling)."
   ]
  },
  {
   "cell_type": "code",
   "execution_count": 1,
   "id": "a251a90e",
   "metadata": {},
   "outputs": [],
   "source": [
    "import pandas as pd\n",
    "import numpy as np\n",
    "from sklearn.preprocessing import LabelEncoder, StandardScaler\n",
    "from sklearn.model_selection import train_test_split\n",
    "from sklearn.ensemble import RandomForestClassifier\n",
    "from sklearn.metrics import accuracy_score, classification_report, confusion_matrix, roc_auc_score, roc_curve\n",
    "import matplotlib.pyplot as plt\n",
    "import seaborn as sns"
   ]
  },
  {
   "cell_type": "code",
   "execution_count": 2,
   "id": "1c174a87",
   "metadata": {},
   "outputs": [
    {
     "data": {
      "text/html": [
       "<div>\n",
       "<style scoped>\n",
       "    .dataframe tbody tr th:only-of-type {\n",
       "        vertical-align: middle;\n",
       "    }\n",
       "\n",
       "    .dataframe tbody tr th {\n",
       "        vertical-align: top;\n",
       "    }\n",
       "\n",
       "    .dataframe thead th {\n",
       "        text-align: right;\n",
       "    }\n",
       "</style>\n",
       "<table border=\"1\" class=\"dataframe\">\n",
       "  <thead>\n",
       "    <tr style=\"text-align: right;\">\n",
       "      <th></th>\n",
       "      <th>Transaction ID</th>\n",
       "      <th>Customer ID</th>\n",
       "      <th>Transaction Date</th>\n",
       "      <th>Transaction Amount</th>\n",
       "      <th>Merchant</th>\n",
       "      <th>Location</th>\n",
       "      <th>Transaction Type</th>\n",
       "      <th>Card Type</th>\n",
       "      <th>Is Fraudulent</th>\n",
       "    </tr>\n",
       "  </thead>\n",
       "  <tbody>\n",
       "    <tr>\n",
       "      <th>0</th>\n",
       "      <td>90023589-2ef8-43e7-807a-b4ab92fcc2a4</td>\n",
       "      <td>5d7358c2-ede9-488a-96e4-fa78a9d9d6db</td>\n",
       "      <td>2024-03-05 15:53:49</td>\n",
       "      <td>231.55</td>\n",
       "      <td>Torres-Sanchez</td>\n",
       "      <td>West Adam</td>\n",
       "      <td>Online Purchase</td>\n",
       "      <td>MasterCard</td>\n",
       "      <td>Yes</td>\n",
       "    </tr>\n",
       "    <tr>\n",
       "      <th>1</th>\n",
       "      <td>3eb2e762-9525-4c33-a022-a47e3da3ec5d</td>\n",
       "      <td>0aac2ab4-f920-428a-939a-78ff9858c13d</td>\n",
       "      <td>2024-07-04 01:00:25</td>\n",
       "      <td>1485.69</td>\n",
       "      <td>Brandt, Ross and Butler</td>\n",
       "      <td>New Benjaminbury</td>\n",
       "      <td>In-Store Purchase</td>\n",
       "      <td>Discover</td>\n",
       "      <td>Yes</td>\n",
       "    </tr>\n",
       "    <tr>\n",
       "      <th>2</th>\n",
       "      <td>12d58e99-92d7-46f3-8ac0-e01ac86c15ec</td>\n",
       "      <td>4d6ee059-5df1-4323-8484-2f04aae3d6b3</td>\n",
       "      <td>2024-01-14 00:18:53</td>\n",
       "      <td>497.33</td>\n",
       "      <td>Delgado LLC</td>\n",
       "      <td>Lake Jamieberg</td>\n",
       "      <td>ATM Withdrawal</td>\n",
       "      <td>Amex</td>\n",
       "      <td>Yes</td>\n",
       "    </tr>\n",
       "    <tr>\n",
       "      <th>3</th>\n",
       "      <td>e9cac917-d336-4629-9baa-f8c19691cb80</td>\n",
       "      <td>d7709d08-fa3c-419c-b2fb-bc9ef2997ef9</td>\n",
       "      <td>2023-12-09 03:06:54</td>\n",
       "      <td>287.68</td>\n",
       "      <td>Smith, Mcdonald and Cruz</td>\n",
       "      <td>Lake James</td>\n",
       "      <td>In-Store Purchase</td>\n",
       "      <td>Visa</td>\n",
       "      <td>Yes</td>\n",
       "    </tr>\n",
       "    <tr>\n",
       "      <th>4</th>\n",
       "      <td>acb39efa-d3c7-4bae-9b6c-9cda5ed79503</td>\n",
       "      <td>e505e3e6-7982-4c7f-b0b1-26a0b6d59d31</td>\n",
       "      <td>2024-02-17 03:22:55</td>\n",
       "      <td>213.97</td>\n",
       "      <td>Huff Ltd</td>\n",
       "      <td>Lake Anthony</td>\n",
       "      <td>In-Store Purchase</td>\n",
       "      <td>Discover</td>\n",
       "      <td>No</td>\n",
       "    </tr>\n",
       "  </tbody>\n",
       "</table>\n",
       "</div>"
      ],
      "text/plain": [
       "                         Transaction ID                           Customer ID  \\\n",
       "0  90023589-2ef8-43e7-807a-b4ab92fcc2a4  5d7358c2-ede9-488a-96e4-fa78a9d9d6db   \n",
       "1  3eb2e762-9525-4c33-a022-a47e3da3ec5d  0aac2ab4-f920-428a-939a-78ff9858c13d   \n",
       "2  12d58e99-92d7-46f3-8ac0-e01ac86c15ec  4d6ee059-5df1-4323-8484-2f04aae3d6b3   \n",
       "3  e9cac917-d336-4629-9baa-f8c19691cb80  d7709d08-fa3c-419c-b2fb-bc9ef2997ef9   \n",
       "4  acb39efa-d3c7-4bae-9b6c-9cda5ed79503  e505e3e6-7982-4c7f-b0b1-26a0b6d59d31   \n",
       "\n",
       "      Transaction Date  Transaction Amount                  Merchant  \\\n",
       "0  2024-03-05 15:53:49              231.55            Torres-Sanchez   \n",
       "1  2024-07-04 01:00:25             1485.69   Brandt, Ross and Butler   \n",
       "2  2024-01-14 00:18:53              497.33               Delgado LLC   \n",
       "3  2023-12-09 03:06:54              287.68  Smith, Mcdonald and Cruz   \n",
       "4  2024-02-17 03:22:55              213.97                  Huff Ltd   \n",
       "\n",
       "           Location   Transaction Type   Card Type Is Fraudulent  \n",
       "0         West Adam    Online Purchase  MasterCard           Yes  \n",
       "1  New Benjaminbury  In-Store Purchase    Discover           Yes  \n",
       "2    Lake Jamieberg     ATM Withdrawal        Amex           Yes  \n",
       "3        Lake James  In-Store Purchase        Visa           Yes  \n",
       "4      Lake Anthony  In-Store Purchase    Discover            No  "
      ]
     },
     "execution_count": 2,
     "metadata": {},
     "output_type": "execute_result"
    }
   ],
   "source": [
    "# Load the dataset\n",
    "df = pd.read_csv('fraud_detection_data.csv')\n",
    "# Display the first few rows of the dataset\n",
    "df.head()"
   ]
  },
  {
   "cell_type": "code",
   "execution_count": 5,
   "id": "d875410a",
   "metadata": {},
   "outputs": [
    {
     "name": "stdout",
     "output_type": "stream",
     "text": [
      "Transaction ID        0\n",
      "Customer ID           0\n",
      "Transaction Date      0\n",
      "Transaction Amount    0\n",
      "Merchant              0\n",
      "Location              0\n",
      "Transaction Type      0\n",
      "Card Type             0\n",
      "Is Fraudulent         0\n",
      "dtype: int64\n"
     ]
    }
   ],
   "source": [
    "# Check for missing values\n",
    "print(df.isnull().sum())"
   ]
  },
  {
   "cell_type": "code",
   "execution_count": 6,
   "id": "3999f976",
   "metadata": {},
   "outputs": [],
   "source": [
    "# Convert categorical variables using LabelEncoder\n",
    "categorical_columns = ['Merchant', 'Location', 'Transaction Type', 'Card Type']\n",
    "le = LabelEncoder()\n",
    "for col in categorical_columns:\n",
    "    df[col] = le.fit_transform(df[col])"
   ]
  },
  {
   "cell_type": "code",
   "execution_count": 7,
   "id": "3419f061",
   "metadata": {},
   "outputs": [],
   "source": [
    "# Convert 'Is Fraudulent' column to binary (Yes -> 1, No -> 0)\n",
    "df['Is Fraudulent'] = df['Is Fraudulent'].map({'Yes': 1, 'No': 0})"
   ]
  },
  {
   "cell_type": "code",
   "execution_count": 8,
   "id": "1f659aca",
   "metadata": {},
   "outputs": [
    {
     "data": {
      "text/html": [
       "<div>\n",
       "<style scoped>\n",
       "    .dataframe tbody tr th:only-of-type {\n",
       "        vertical-align: middle;\n",
       "    }\n",
       "\n",
       "    .dataframe tbody tr th {\n",
       "        vertical-align: top;\n",
       "    }\n",
       "\n",
       "    .dataframe thead th {\n",
       "        text-align: right;\n",
       "    }\n",
       "</style>\n",
       "<table border=\"1\" class=\"dataframe\">\n",
       "  <thead>\n",
       "    <tr style=\"text-align: right;\">\n",
       "      <th></th>\n",
       "      <th>Transaction ID</th>\n",
       "      <th>Customer ID</th>\n",
       "      <th>Transaction Date</th>\n",
       "      <th>Transaction Amount</th>\n",
       "      <th>Merchant</th>\n",
       "      <th>Location</th>\n",
       "      <th>Transaction Type</th>\n",
       "      <th>Card Type</th>\n",
       "      <th>Is Fraudulent</th>\n",
       "    </tr>\n",
       "  </thead>\n",
       "  <tbody>\n",
       "    <tr>\n",
       "      <th>0</th>\n",
       "      <td>90023589-2ef8-43e7-807a-b4ab92fcc2a4</td>\n",
       "      <td>5d7358c2-ede9-488a-96e4-fa78a9d9d6db</td>\n",
       "      <td>2024-03-05 15:53:49</td>\n",
       "      <td>231.55</td>\n",
       "      <td>319</td>\n",
       "      <td>325</td>\n",
       "      <td>2</td>\n",
       "      <td>2</td>\n",
       "      <td>1</td>\n",
       "    </tr>\n",
       "    <tr>\n",
       "      <th>1</th>\n",
       "      <td>3eb2e762-9525-4c33-a022-a47e3da3ec5d</td>\n",
       "      <td>0aac2ab4-f920-428a-939a-78ff9858c13d</td>\n",
       "      <td>2024-07-04 01:00:25</td>\n",
       "      <td>1485.69</td>\n",
       "      <td>31</td>\n",
       "      <td>176</td>\n",
       "      <td>1</td>\n",
       "      <td>1</td>\n",
       "      <td>1</td>\n",
       "    </tr>\n",
       "    <tr>\n",
       "      <th>2</th>\n",
       "      <td>12d58e99-92d7-46f3-8ac0-e01ac86c15ec</td>\n",
       "      <td>4d6ee059-5df1-4323-8484-2f04aae3d6b3</td>\n",
       "      <td>2024-01-14 00:18:53</td>\n",
       "      <td>497.33</td>\n",
       "      <td>81</td>\n",
       "      <td>125</td>\n",
       "      <td>0</td>\n",
       "      <td>0</td>\n",
       "      <td>1</td>\n",
       "    </tr>\n",
       "    <tr>\n",
       "      <th>3</th>\n",
       "      <td>e9cac917-d336-4629-9baa-f8c19691cb80</td>\n",
       "      <td>d7709d08-fa3c-419c-b2fb-bc9ef2997ef9</td>\n",
       "      <td>2023-12-09 03:06:54</td>\n",
       "      <td>287.68</td>\n",
       "      <td>296</td>\n",
       "      <td>123</td>\n",
       "      <td>1</td>\n",
       "      <td>3</td>\n",
       "      <td>1</td>\n",
       "    </tr>\n",
       "    <tr>\n",
       "      <th>4</th>\n",
       "      <td>acb39efa-d3c7-4bae-9b6c-9cda5ed79503</td>\n",
       "      <td>e505e3e6-7982-4c7f-b0b1-26a0b6d59d31</td>\n",
       "      <td>2024-02-17 03:22:55</td>\n",
       "      <td>213.97</td>\n",
       "      <td>146</td>\n",
       "      <td>117</td>\n",
       "      <td>1</td>\n",
       "      <td>1</td>\n",
       "      <td>0</td>\n",
       "    </tr>\n",
       "  </tbody>\n",
       "</table>\n",
       "</div>"
      ],
      "text/plain": [
       "                         Transaction ID                           Customer ID  \\\n",
       "0  90023589-2ef8-43e7-807a-b4ab92fcc2a4  5d7358c2-ede9-488a-96e4-fa78a9d9d6db   \n",
       "1  3eb2e762-9525-4c33-a022-a47e3da3ec5d  0aac2ab4-f920-428a-939a-78ff9858c13d   \n",
       "2  12d58e99-92d7-46f3-8ac0-e01ac86c15ec  4d6ee059-5df1-4323-8484-2f04aae3d6b3   \n",
       "3  e9cac917-d336-4629-9baa-f8c19691cb80  d7709d08-fa3c-419c-b2fb-bc9ef2997ef9   \n",
       "4  acb39efa-d3c7-4bae-9b6c-9cda5ed79503  e505e3e6-7982-4c7f-b0b1-26a0b6d59d31   \n",
       "\n",
       "      Transaction Date  Transaction Amount  Merchant  Location  \\\n",
       "0  2024-03-05 15:53:49              231.55       319       325   \n",
       "1  2024-07-04 01:00:25             1485.69        31       176   \n",
       "2  2024-01-14 00:18:53              497.33        81       125   \n",
       "3  2023-12-09 03:06:54              287.68       296       123   \n",
       "4  2024-02-17 03:22:55              213.97       146       117   \n",
       "\n",
       "   Transaction Type  Card Type  Is Fraudulent  \n",
       "0                 2          2              1  \n",
       "1                 1          1              1  \n",
       "2                 0          0              1  \n",
       "3                 1          3              1  \n",
       "4                 1          1              0  "
      ]
     },
     "execution_count": 8,
     "metadata": {},
     "output_type": "execute_result"
    }
   ],
   "source": [
    "# Verify the changes\n",
    "df.head()"
   ]
  },
  {
   "cell_type": "code",
   "execution_count": 9,
   "id": "6e708578",
   "metadata": {},
   "outputs": [
    {
     "data": {
      "image/png": "[encoded data removed]",
      "text/plain": [
       "<Figure size 432x288 with 1 Axes>"
      ]
     },
     "metadata": {
      "needs_background": "light"
     },
     "output_type": "display_data"
    }
   ],
   "source": [
    "# Countplot for Fraudulent vs Legitimate Transactions\n",
    "sns.countplot(x='Is Fraudulent', data=df)\n",
    "plt.title('Distribution of Fraudulent vs Legitimate Transactions')\n",
    "plt.show()"
   ]
  },
  {
   "cell_type": "code",
   "execution_count": 10,
   "id": "26ae40fa",
   "metadata": {},
   "outputs": [
    {
     "data": {
      "text/html": [
       "<div>\n",
       "<style scoped>\n",
       "    .dataframe tbody tr th:only-of-type {\n",
       "        vertical-align: middle;\n",
       "    }\n",
       "\n",
       "    .dataframe tbody tr th {\n",
       "        vertical-align: top;\n",
       "    }\n",
       "\n",
       "    .dataframe thead th {\n",
       "        text-align: right;\n",
       "    }\n",
       "</style>\n",
       "<table border=\"1\" class=\"dataframe\">\n",
       "  <thead>\n",
       "    <tr style=\"text-align: right;\">\n",
       "      <th></th>\n",
       "      <th>Transaction Amount</th>\n",
       "      <th>Merchant</th>\n",
       "      <th>Location</th>\n",
       "      <th>Transaction Type</th>\n",
       "      <th>Card Type</th>\n",
       "      <th>Is Fraudulent</th>\n",
       "    </tr>\n",
       "  </thead>\n",
       "  <tbody>\n",
       "    <tr>\n",
       "      <th>count</th>\n",
       "      <td>363.000000</td>\n",
       "      <td>363.000000</td>\n",
       "      <td>363.000000</td>\n",
       "      <td>363.000000</td>\n",
       "      <td>363.000000</td>\n",
       "      <td>363.000000</td>\n",
       "    </tr>\n",
       "    <tr>\n",
       "      <th>mean</th>\n",
       "      <td>977.349972</td>\n",
       "      <td>178.831956</td>\n",
       "      <td>177.966942</td>\n",
       "      <td>1.005510</td>\n",
       "      <td>1.528926</td>\n",
       "      <td>0.504132</td>\n",
       "    </tr>\n",
       "    <tr>\n",
       "      <th>std</th>\n",
       "      <td>581.386431</td>\n",
       "      <td>103.906683</td>\n",
       "      <td>102.929059</td>\n",
       "      <td>0.827679</td>\n",
       "      <td>1.105544</td>\n",
       "      <td>0.500673</td>\n",
       "    </tr>\n",
       "    <tr>\n",
       "      <th>min</th>\n",
       "      <td>14.290000</td>\n",
       "      <td>0.000000</td>\n",
       "      <td>0.000000</td>\n",
       "      <td>0.000000</td>\n",
       "      <td>0.000000</td>\n",
       "      <td>0.000000</td>\n",
       "    </tr>\n",
       "    <tr>\n",
       "      <th>25%</th>\n",
       "      <td>476.700000</td>\n",
       "      <td>89.500000</td>\n",
       "      <td>89.500000</td>\n",
       "      <td>0.000000</td>\n",
       "      <td>1.000000</td>\n",
       "      <td>0.000000</td>\n",
       "    </tr>\n",
       "    <tr>\n",
       "      <th>50%</th>\n",
       "      <td>992.100000</td>\n",
       "      <td>178.000000</td>\n",
       "      <td>178.000000</td>\n",
       "      <td>1.000000</td>\n",
       "      <td>2.000000</td>\n",
       "      <td>1.000000</td>\n",
       "    </tr>\n",
       "    <tr>\n",
       "      <th>75%</th>\n",
       "      <td>1469.630000</td>\n",
       "      <td>268.500000</td>\n",
       "      <td>266.500000</td>\n",
       "      <td>2.000000</td>\n",
       "      <td>2.500000</td>\n",
       "      <td>1.000000</td>\n",
       "    </tr>\n",
       "    <tr>\n",
       "      <th>max</th>\n",
       "      <td>1994.680000</td>\n",
       "      <td>358.000000</td>\n",
       "      <td>356.000000</td>\n",
       "      <td>2.000000</td>\n",
       "      <td>3.000000</td>\n",
       "      <td>1.000000</td>\n",
       "    </tr>\n",
       "  </tbody>\n",
       "</table>\n",
       "</div>"
      ],
      "text/plain": [
       "       Transaction Amount    Merchant    Location  Transaction Type  \\\n",
       "count          363.000000  363.000000  363.000000        363.000000   \n",
       "mean           977.349972  178.831956  177.966942          1.005510   \n",
       "std            581.386431  103.906683  102.929059          0.827679   \n",
       "min             14.290000    0.000000    0.000000          0.000000   \n",
       "25%            476.700000   89.500000   89.500000          0.000000   \n",
       "50%            992.100000  178.000000  178.000000          1.000000   \n",
       "75%           1469.630000  268.500000  266.500000          2.000000   \n",
       "max           1994.680000  358.000000  356.000000          2.000000   \n",
       "\n",
       "        Card Type  Is Fraudulent  \n",
       "count  363.000000     363.000000  \n",
       "mean     1.528926       0.504132  \n",
       "std      1.105544       0.500673  \n",
       "min      0.000000       0.000000  \n",
       "25%      1.000000       0.000000  \n",
       "50%      2.000000       1.000000  \n",
       "75%      2.500000       1.000000  \n",
       "max      3.000000       1.000000  "
      ]
     },
     "execution_count": 10,
     "metadata": {},
     "output_type": "execute_result"
    }
   ],
   "source": [
    "# Descriptive statistics for numerical columns\n",
    "df.describe()"
   ]
  },
  {
   "cell_type": "code",
   "execution_count": 11,
   "id": "33fe2186",
   "metadata": {},
   "outputs": [
    {
     "data": {
      "image/png": "[encoded data removed]",
      "text/plain": [
       "<Figure size 432x288 with 1 Axes>"
      ]
     },
     "metadata": {
      "needs_background": "light"
     },
     "output_type": "display_data"
    }
   ],
   "source": [
    "# Check the distribution of transaction amounts for fraudulent and non-fraudulent transactions\n",
    "sns.histplot(data=df, x='Transaction Amount', hue='Is Fraudulent', bins=50, kde=True)\n",
    "plt.title('Transaction Amount Distribution')\n",
    "plt.show()"
   ]
  },
  {
   "cell_type": "markdown",
   "id": "f1dfd824",
   "metadata": {},
   "source": [
    "# Task 2: Feature Engineering:\n",
    "- Create new features that might help in fraud detection, such as the frequency of transactions by a customer, the average transaction amount, or the time of day of transactions.\n",
    "- Explore interactions between different features to improve model performance."
   ]
  },
  {
   "cell_type": "code",
   "execution_count": 12,
   "id": "4a29af35",
   "metadata": {},
   "outputs": [
    {
     "data": {
      "text/html": [
       "<div>\n",
       "<style scoped>\n",
       "    .dataframe tbody tr th:only-of-type {\n",
       "        vertical-align: middle;\n",
       "    }\n",
       "\n",
       "    .dataframe tbody tr th {\n",
       "        vertical-align: top;\n",
       "    }\n",
       "\n",
       "    .dataframe thead th {\n",
       "        text-align: right;\n",
       "    }\n",
       "</style>\n",
       "<table border=\"1\" class=\"dataframe\">\n",
       "  <thead>\n",
       "    <tr style=\"text-align: right;\">\n",
       "      <th></th>\n",
       "      <th>Transaction Hour</th>\n",
       "      <th>Transaction Frequency</th>\n",
       "    </tr>\n",
       "  </thead>\n",
       "  <tbody>\n",
       "    <tr>\n",
       "      <th>0</th>\n",
       "      <td>15</td>\n",
       "      <td>1</td>\n",
       "    </tr>\n",
       "    <tr>\n",
       "      <th>1</th>\n",
       "      <td>1</td>\n",
       "      <td>1</td>\n",
       "    </tr>\n",
       "    <tr>\n",
       "      <th>2</th>\n",
       "      <td>0</td>\n",
       "      <td>1</td>\n",
       "    </tr>\n",
       "    <tr>\n",
       "      <th>3</th>\n",
       "      <td>3</td>\n",
       "      <td>1</td>\n",
       "    </tr>\n",
       "    <tr>\n",
       "      <th>4</th>\n",
       "      <td>3</td>\n",
       "      <td>1</td>\n",
       "    </tr>\n",
       "  </tbody>\n",
       "</table>\n",
       "</div>"
      ],
      "text/plain": [
       "   Transaction Hour  Transaction Frequency\n",
       "0                15                      1\n",
       "1                 1                      1\n",
       "2                 0                      1\n",
       "3                 3                      1\n",
       "4                 3                      1"
      ]
     },
     "execution_count": 12,
     "metadata": {},
     "output_type": "execute_result"
    }
   ],
   "source": [
    "# Create a new feature: Transaction Hour\n",
    "df['Transaction Hour'] = pd.to_datetime(df['Transaction Date']).dt.hour\n",
    "\n",
    "# Create a new feature: Transaction Frequency by Customer\n",
    "df['Transaction Frequency'] = df.groupby('Customer ID')['Transaction ID'].transform('count')\n",
    "\n",
    "# Check new features\n",
    "df[['Transaction Hour', 'Transaction Frequency']].head()"
   ]
  },
  {
   "cell_type": "code",
   "execution_count": 13,
   "id": "eca7b50d",
   "metadata": {},
   "outputs": [
    {
     "data": {
      "text/html": [
       "<div>\n",
       "<style scoped>\n",
       "    .dataframe tbody tr th:only-of-type {\n",
       "        vertical-align: middle;\n",
       "    }\n",
       "\n",
       "    .dataframe tbody tr th {\n",
       "        vertical-align: top;\n",
       "    }\n",
       "\n",
       "    .dataframe thead th {\n",
       "        text-align: right;\n",
       "    }\n",
       "</style>\n",
       "<table border=\"1\" class=\"dataframe\">\n",
       "  <thead>\n",
       "    <tr style=\"text-align: right;\">\n",
       "      <th></th>\n",
       "      <th>Transaction Amount</th>\n",
       "      <th>Transaction Frequency</th>\n",
       "    </tr>\n",
       "  </thead>\n",
       "  <tbody>\n",
       "    <tr>\n",
       "      <th>0</th>\n",
       "      <td>-1.284566</td>\n",
       "      <td>0.0</td>\n",
       "    </tr>\n",
       "    <tr>\n",
       "      <th>1</th>\n",
       "      <td>0.875565</td>\n",
       "      <td>0.0</td>\n",
       "    </tr>\n",
       "    <tr>\n",
       "      <th>2</th>\n",
       "      <td>-0.826787</td>\n",
       "      <td>0.0</td>\n",
       "    </tr>\n",
       "    <tr>\n",
       "      <th>3</th>\n",
       "      <td>-1.187888</td>\n",
       "      <td>0.0</td>\n",
       "    </tr>\n",
       "    <tr>\n",
       "      <th>4</th>\n",
       "      <td>-1.314846</td>\n",
       "      <td>0.0</td>\n",
       "    </tr>\n",
       "  </tbody>\n",
       "</table>\n",
       "</div>"
      ],
      "text/plain": [
       "   Transaction Amount  Transaction Frequency\n",
       "0           -1.284566                    0.0\n",
       "1            0.875565                    0.0\n",
       "2           -0.826787                    0.0\n",
       "3           -1.187888                    0.0\n",
       "4           -1.314846                    0.0"
      ]
     },
     "execution_count": 13,
     "metadata": {},
     "output_type": "execute_result"
    }
   ],
   "source": [
    "# Standardizing the 'Transaction Amount' and 'Transaction Frequency'\n",
    "scaler = StandardScaler()\n",
    "df[['Transaction Amount', 'Transaction Frequency']] = scaler.fit_transform(df[['Transaction Amount', 'Transaction Frequency']])\n",
    "\n",
    "# Check standardized values\n",
    "df[['Transaction Amount', 'Transaction Frequency']].head()"
   ]
  },
  {
   "cell_type": "markdown",
   "id": "1eebae5e",
   "metadata": {},
   "source": [
    "# Task 3: Model Building:\n",
    "- Split the dataset into training and testing sets.\n",
    "- Experiment with different machine learning algorithms, such as Logistic Regression, Random Forest, or Gradient Boosting, to build a fraud detection model.\n",
    "- Tune the model for optimal performance using techniques like cross-validation and grid search.\n",
    "- Evaluate the model using metrics like accuracy, precision, recall, F1-score, and especially the area under the ROC curve (AUC-ROC) for imbalanced datasets."
   ]
  },
  {
   "cell_type": "code",
   "execution_count": 16,
   "id": "4863834c",
   "metadata": {},
   "outputs": [],
   "source": [
    "# Split the data into features (X) and target (y)\n",
    "X = df.drop(['Transaction ID', 'Customer ID', 'Is Fraudulent', 'Transaction Date'], axis=1)\n",
    "y = df['Is Fraudulent']\n",
    "\n",
    "# Split into training and testing sets\n",
    "X_train, X_test, y_train, y_test = train_test_split(X, y, test_size=0.3, random_state=42)"
   ]
  },
  {
   "cell_type": "code",
   "execution_count": 17,
   "id": "a138b65f",
   "metadata": {},
   "outputs": [
    {
     "name": "stdout",
     "output_type": "stream",
     "text": [
      "Training Set: (254, 7)\n",
      "Test Set: (109, 7)\n"
     ]
    }
   ],
   "source": [
    "# Check the size of training and testing sets\n",
    "print(f'Training Set: {X_train.shape}')\n",
    "print(f'Test Set: {X_test.shape}')"
   ]
  },
  {
   "cell_type": "code",
   "execution_count": 21,
   "id": "69702b4a",
   "metadata": {},
   "outputs": [
    {
     "data": {
      "text/plain": [
       "RandomForestClassifier(random_state=42)"
      ]
     },
     "execution_count": 21,
     "metadata": {},
     "output_type": "execute_result"
    }
   ],
   "source": [
    "# Create and train the Random Forest model\n",
    "rf_model = RandomForestClassifier(random_state=42)\n",
    "rf_model.fit(X_train, y_train)"
   ]
  },
  {
   "cell_type": "markdown",
   "id": "454eca0c",
   "metadata": {},
   "source": [
    "# Task 4: Fraud Detection System Design:\n",
    "- Based on your findings, design a real-time fraud detection system that could be implemented by the financial institution.\n",
    "- Suggest methods for continuous learning and adaptation of the model as fraud patterns evolve.\n",
    "- Provide recommendations on how to integrate this system with the existing transaction processing infrastructure."
   ]
  },
  {
   "cell_type": "code",
   "execution_count": 23,
   "id": "064694b4",
   "metadata": {},
   "outputs": [
    {
     "name": "stdout",
     "output_type": "stream",
     "text": [
      "Accuracy: 54.13%\n"
     ]
    },
    {
     "data": {
      "image/png": "[encoded data removed]",
      "text/plain": [
       "<Figure size 432x288 with 2 Axes>"
      ]
     },
     "metadata": {
      "needs_background": "light"
     },
     "output_type": "display_data"
    },
    {
     "name": "stdout",
     "output_type": "stream",
     "text": [
      "              precision    recall  f1-score   support\n",
      "\n",
      "           0       0.55      0.59      0.57        56\n",
      "           1       0.53      0.49      0.51        53\n",
      "\n",
      "    accuracy                           0.54       109\n",
      "   macro avg       0.54      0.54      0.54       109\n",
      "weighted avg       0.54      0.54      0.54       109\n",
      "\n"
     ]
    }
   ],
   "source": [
    "# Make predictions on the test set\n",
    "y_pred = rf_model.predict(X_test)\n",
    "\n",
    "# Accuracy\n",
    "accuracy = accuracy_score(y_test, y_pred)\n",
    "print(f\"Accuracy: {accuracy * 100:.2f}%\")\n",
    "\n",
    "# Confusion Matrix\n",
    "conf_matrix = confusion_matrix(y_test, y_pred)\n",
    "sns.heatmap(conf_matrix, annot=True, fmt=\"d\")\n",
    "plt.title('Confusion Matrix')\n",
    "plt.show()\n",
    "\n",
    "# Classification Report\n",
    "print(classification_report(y_test, y_pred))"
   ]
  },
  {
   "cell_type": "code",
   "execution_count": 24,
   "id": "3daba104",
   "metadata": {},
   "outputs": [
    {
     "data": {
      "image/png": "[encoded data removed]",
      "text/plain": [
       "<Figure size 432x288 with 1 Axes>"
      ]
     },
     "metadata": {
      "needs_background": "light"
     },
     "output_type": "display_data"
    }
   ],
   "source": [
    "# Predict probabilities for AUC-ROC\n",
    "y_pred_proba = rf_model.predict_proba(X_test)[:,1]\n",
    "\n",
    "# Calculate ROC curve\n",
    "fpr, tpr, thresholds = roc_curve(y_test, y_pred_proba)\n",
    "roc_auc = roc_auc_score(y_test, y_pred_proba)\n",
    "\n",
    "# Plot the ROC curve\n",
    "plt.plot(fpr, tpr, label=f\"AUC = {roc_auc:.2f}\")\n",
    "plt.title('ROC Curve')\n",
    "plt.xlabel('False Positive Rate')\n",
    "plt.ylabel('True Positive Rate')\n",
    "plt.legend(loc='lower right')\n",
    "plt.show()"
   ]
  },
  {
   "cell_type": "code",
   "execution_count": 25,
   "id": "1e0d1652",
   "metadata": {},
   "outputs": [
    {
     "data": {
      "image/png": "[encoded data removed]",
      "text/plain": [
       "<Figure size 720x432 with 1 Axes>"
      ]
     },
     "metadata": {
      "needs_background": "light"
     },
     "output_type": "display_data"
    }
   ],
   "source": [
    "# Feature importance plot\n",
    "importances = rf_model.feature_importances_\n",
    "indices = np.argsort(importances)[::-1]\n",
    "features = X.columns\n",
    "\n",
    "plt.figure(figsize=(10,6))\n",
    "plt.title(\"Feature Importance\")\n",
    "plt.bar(range(X.shape[1]), importances[indices], align=\"center\")\n",
    "plt.xticks(range(X.shape[1]), [features[i] for i in indices], rotation=90)\n",
    "plt.show()"
   ]
  }
 ],
 "metadata": {
  "kernelspec": {
   "display_name": "Python 3 (ipykernel)",
   "language": "python",
   "name": "python3"
  },
  "language_info": {
   "codemirror_mode": {
    "name": "ipython",
    "version": 3
   },
   "file_extension": ".py",
   "mimetype": "text/x-python",
   "name": "python",
   "nbconvert_exporter": "python",
   "pygments_lexer": "ipython3",
   "version": "3.11.5"
  }
 },
 "nbformat": 4,
 "nbformat_minor": 5
}
